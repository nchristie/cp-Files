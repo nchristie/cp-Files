{
 "cells": [
  {
   "cell_type": "markdown",
   "metadata": {},
   "source": [
    "# ** Files **\n"
   ]
  },
  {
   "cell_type": "code",
   "execution_count": null,
   "metadata": {},
   "outputs": [],
   "source": [
    "# run this cell to show a video, use slider to resize it, type Esc-o to hide it\n",
    "from IPython.display import Video, clear_output; from ipywidgets import interactive, IntSlider\n",
    "def _play(resize): display(Video(filename=\"media/ECS780P_Files_topicSummary.mp4\",data=\"\",width=resize))\n",
    "interactive(_play, resize=IntSlider(min=150, max=900, step=50, value=600, continuous_update=False, readout=False))"
   ]
  },
  {
   "cell_type": "markdown",
   "metadata": {},
   "source": [
    "# Reading and writing files"
   ]
  },
  {
   "cell_type": "markdown",
   "metadata": {},
   "source": [
    "Entering input via the keyboard and reading the output from a console obviously isn't a very convenient way of dealing with large amounts of data. Most of the time, we will want to operate on files (e.g. PDB and FASTA files in the context of bioinformatics) that we download from some online database **(*)** and store the results of our computation on the disk for further processing. Dealing with files is luckily straightforward in Python.\n",
    "\n",
    "**(*)** We might also be using data in CSV files, in a general context. \n",
    "\n",
    "**Note** that since the files we will work with sit in the same directory as the notebook, you may need to log in to the server in order to edit them.\n"
   ]
  },
  {
   "cell_type": "markdown",
   "metadata": {},
   "source": [
    "# Text *versus* Binary files"
   ]
  },
  {
   "cell_type": "markdown",
   "metadata": {},
   "source": [
    "There are essentially two types of data files: *text* and *binary*. \n",
    "\n",
    "**Text files** can be opened and modified with a plain text editor such as *gedit*, *emacs* or *notepad*. They are not necessarily written in plan English: a Python program, an HTML page, a CSV file or a PDB file are all text files. Text files are generally somewhat human-readable and are portable across different operating systems and editors, (usually) with very minor changes. The disadvantage is that they take up a lot of space on the disk.\n",
    "\n",
    "**Binary files** contain data in the internal machine representation of the data. They are less portable and are generally used either to talk directly to the machine, or to store large amounts of data efficiently, or to protect intellectual property.\n",
    "Python bytecode (.pyc) files, compressed (.zip) files and Microsoft Word (.doc) files are all examples of binary files. An attempt at opening them in a text editor will only show 'gibberish' on the screen.\n",
    "\n",
    "Happily most of the file types used in bioinformatics (and in computing in general) are text files with open format specifications, so we will not worry about binary files here. It is important however to remember, in your future professional life, that sometimes what you really need is not a bigger disk, but only a more compact data representation.\n"
   ]
  },
  {
   "cell_type": "markdown",
   "metadata": {},
   "source": [
    "# Reading files"
   ]
  },
  {
   "cell_type": "markdown",
   "metadata": {},
   "source": [
    "We will now try to read the following FASTA file (**note** this will not work unless the file actually is in the same directory as this notebook):"
   ]
  },
  {
   "cell_type": "code",
   "execution_count": null,
   "metadata": {},
   "outputs": [],
   "source": [
    "# Ignore, this is just an IPython trick\n",
    "# that creates the link below\n",
    "from IPython.display import FileLink\n",
    "FileLink('P04637.fas')"
   ]
  },
  {
   "cell_type": "markdown",
   "metadata": {},
   "source": [
    "Reading this file in Python requires first a call to **open**, that returns a file handle:"
   ]
  },
  {
   "cell_type": "code",
   "execution_count": null,
   "metadata": {},
   "outputs": [],
   "source": [
    "FASTA = open(\"P04637.fas\", \"r\")\n",
    "print(FASTA)"
   ]
  },
  {
   "cell_type": "markdown",
   "metadata": {},
   "source": [
    "the \"r\" indicates we are opening this file for *reading*. The handle that's returned is a convenience object used by Python to keep track of all data relative to the file (including location, type, position, etc). Just treat that as you would any other Python object."
   ]
  },
  {
   "cell_type": "markdown",
   "metadata": {},
   "source": [
    "### Using *readlines()*"
   ]
  },
  {
   "cell_type": "markdown",
   "metadata": {},
   "source": [
    "An easy way to read all the file is now to use *readlines()*:"
   ]
  },
  {
   "cell_type": "code",
   "execution_count": null,
   "metadata": {},
   "outputs": [],
   "source": [
    "# this won't work twice in a row, see below\n",
    "everything = FASTA.readlines()\n",
    "print(everything)"
   ]
  },
  {
   "cell_type": "markdown",
   "metadata": {},
   "source": [
    "As you can see, *readlines()* returns a list of strings, each corresponding to a line in the file. This exhausts the contents of the file. All that remains to do now is to close the file to free the associated system resources:"
   ]
  },
  {
   "cell_type": "code",
   "execution_count": null,
   "metadata": {},
   "outputs": [],
   "source": [
    "FASTA.close()"
   ]
  },
  {
   "cell_type": "markdown",
   "metadata": {},
   "source": [
    "Note that you cannot run *readlines()* on the same file twice without \"rewinding\" it (e.g. by closing it and reopening)."
   ]
  },
  {
   "cell_type": "markdown",
   "metadata": {},
   "source": [
    "### Using instead *readline()*"
   ]
  },
  {
   "cell_type": "markdown",
   "metadata": {},
   "source": [
    "Using *readlines()* is less than ideal as it slurps up all the file in one go, which is somewhat inconvenient as the file may contain different types of data (in this case the header and the protein proper) or may be too large to fit entirely in the memory. In general, it is better to process it one line at a time, using repeated calls to *readline()*. In this particular example, that also gives us the chance to assemble the protein into a single string. Here is how it works:"
   ]
  },
  {
   "cell_type": "code",
   "execution_count": null,
   "metadata": {},
   "outputs": [],
   "source": [
    "FASTA = open(\"P04637.fas\", \"r\")\n",
    "header = FASTA.readline()\n",
    "protein = \"\"\n",
    "while True:\n",
    "    oneLine = FASTA.readline()\n",
    "    if oneLine == \"\": break\n",
    "    protein += oneLine.rstrip()\n",
    "FASTA.close()\n",
    "\n",
    "# Done. This is just pretty-printing\n",
    "(code, name) = header.split('|')\n",
    "print(\"Accession code:\")\n",
    "print(code)\n",
    "print(\"\\nName:\")\n",
    "print(name)\n",
    "print(\"Protein:\")\n",
    "print(protein)\n",
    "print(\"\\nNumber of residues:\")\n",
    "print(len(protein))\n"
   ]
  },
  {
   "cell_type": "markdown",
   "metadata": {},
   "source": [
    "### Using a \"for\" loop:"
   ]
  },
  {
   "cell_type": "markdown",
   "metadata": {},
   "source": [
    "There is a more \"Pythonic\" way of doing this that uses the fact that a file is an *iterable* and therefore can be read directly using a *for* loop:"
   ]
  },
  {
   "cell_type": "code",
   "execution_count": null,
   "metadata": {},
   "outputs": [],
   "source": [
    "FASTA = open(\"P04637.fas\", \"r\")\n",
    "header = FASTA.readline()\n",
    "protein = \"\"\n",
    "for oneLine in FASTA: # couldn't be easier!\n",
    "    protein += oneLine.rstrip()\n",
    "FASTA.close()\n",
    "\n",
    "# Done. This is just pretty-printing\n",
    "(code, name) = header.split('|')\n",
    "print(\"Accession code:\")\n",
    "print(code)\n",
    "print(\"\\nName:\")\n",
    "print(name)\n",
    "print(\"Protein:\")\n",
    "print(protein)\n",
    "print(\"\\nNumber of residues:\")\n",
    "print(len(protein))"
   ]
  },
  {
   "cell_type": "code",
   "execution_count": null,
   "metadata": {},
   "outputs": [],
   "source": [
    "# run this cell to show a video, use slider to resize it, type Esc-o to hide it\n",
    "from IPython.display import Video, clear_output; from ipywidgets import interactive, IntSlider\n",
    "def _play(resize): display(Video(filename=\"media/ECS780P_Files_ReadingFromFiles.mp4\",data=\"\",width=resize))\n",
    "interactive(_play, resize=IntSlider(min=150, max=900, step=50, value=600, continuous_update=False, readout=False))"
   ]
  },
  {
   "cell_type": "markdown",
   "metadata": {},
   "source": [
    "# Writing files"
   ]
  },
  {
   "cell_type": "markdown",
   "metadata": {},
   "source": [
    "Writing files is not much more of a hassle than reading them. In fact, the main steps are the same:\n",
    "1. open a file\n",
    "2. write the content\n",
    "3. close it\n",
    "\n",
    "The only differences are that the file must be opened in *write mode*, and that the *file.write()* method must be used to actually write data to it.\n",
    "\n",
    "**NOTE**: Opening a file for writing will erase its previous content (if there was any). However it is possible to open a file for appending. \n",
    "\n",
    "Here is an example of appending data to a file:"
   ]
  },
  {
   "cell_type": "code",
   "execution_count": null,
   "metadata": {},
   "outputs": [],
   "source": [
    "OUTF = open(\"greetings.txt\", \"wt\")\n",
    "# strings can be written directly\n",
    "OUTF.write(\"Hello World!\\n\") # \\n means newline\n",
    "value = ('The Answer', 42) # other stuff needs to be converted to a string\n",
    "OUTF.write(str(value))\n",
    "OUTF.close() # makes sure the buffer gets flushed to the disk"
   ]
  },
  {
   "cell_type": "code",
   "execution_count": null,
   "metadata": {},
   "outputs": [],
   "source": [
    "FileLink('greetings.txt')"
   ]
  },
  {
   "cell_type": "markdown",
   "metadata": {},
   "source": [
    "So for instance, writing your candidate protein out in FASTA format can be done this way:"
   ]
  },
  {
   "cell_type": "code",
   "execution_count": null,
   "metadata": {},
   "outputs": [],
   "source": [
    "# Your candidate protein\n",
    "accession = \"PXXXX\"\n",
    "description = \"My candidate protein - Homo programmaticus (Programmer)\" \n",
    "sequence = \"\"\"QIKDLLVSSSTDLDTTLVLVNAIYFKGMWKTAFNAEDTREMPFHVTKQESKPVQMMCMNNSFNVATLPAEKMK\n",
    "    ILELPFASGDLSMLVLLPDEVSDLERIEKTINFEKLTEWTNPNTMEKRRVKVYLPQMKIEEKYNLTS\n",
    "    VLMALGMTDLFIPSANLTGISSAESLKISQAVHGAFMELSEDGIEMAGSTGVIEDIKHSPESEQFRADHP\n",
    "\tFLFLIKHNPTNTIVYFGRYWSP\"\"\"\n",
    "# get rid of tabs, newlines and spaces in the above string\n",
    "sequence = sequence.replace(' ','')\n",
    "sequence = sequence.replace('\\t', '')\n",
    "sequence = sequence.replace('\\n', '')\n",
    "\n",
    "# Ok, now let's write it\n",
    "OUTF = open(accession + \".fas\", \"w\")\n",
    "# first the header\n",
    "header = accession + \" | \" + description+\"\\n\"\n",
    "OUTF.write(header)\n",
    "# output in 60 char lines for convenience\n",
    "linew = 60\n",
    "pos = 0\n",
    "while sequence[pos:pos+linew] != '':\n",
    "        OUTF.write(sequence[pos:pos+linew]+\"\\n\")\n",
    "        pos += linew\n",
    "OUTF.close() # Done!\n"
   ]
  },
  {
   "cell_type": "code",
   "execution_count": null,
   "metadata": {},
   "outputs": [],
   "source": [
    "FileLink(accession + \".fas\")"
   ]
  },
  {
   "cell_type": "markdown",
   "metadata": {},
   "source": [
    "# CSV Files"
   ]
  },
  {
   "cell_type": "markdown",
   "metadata": {},
   "source": [
    "The CSV (Comma-Separated Values) file format is a popular text file format that lists each record on a separate line. Data fields for the same entry are separated by commas (or occasionaly semicolons or tabs). Many popular packages can output data as CSV files, among others Excel. Reading and writing CSV files in Python is easy, either directly or via the *csv* module."
   ]
  },
  {
   "cell_type": "markdown",
   "metadata": {},
   "source": [
    "Example - the file *marksheet.csv* contains the following text:\n",
    "\n",
    "```\n",
    "Name, Surname, Mark\n",
    "John, Smith, 50\n",
    "Anne, Larsson, 65\n",
    "Emiliano, Zapata, 95\n",
    "Donald, Duck, 40\n",
    "```\n",
    "\n",
    "When I link to this file, the browser is likely to suggest opening it as a spreadsheet:"
   ]
  },
  {
   "cell_type": "code",
   "execution_count": null,
   "metadata": {},
   "outputs": [],
   "source": [
    "FileLink('marksheet.csv')"
   ]
  },
  {
   "cell_type": "markdown",
   "metadata": {},
   "source": [
    "We can, however, treat this as a normal text file. Suppose that we want to compute the average mark:"
   ]
  },
  {
   "cell_type": "code",
   "execution_count": null,
   "metadata": {},
   "outputs": [],
   "source": [
    "FILE = open(\"marksheet.csv\", \"r\")\n",
    "FILE.readline() # skip header\n",
    "total = 0.0\n",
    "students = 0\n",
    "for line in FILE:\n",
    "    entries = line.split(',')\n",
    "    total += float(entries[2])\n",
    "    students += 1\n",
    "FILE.close()\n",
    "\n",
    "print(\"Average: \", total/students)"
   ]
  },
  {
   "cell_type": "markdown",
   "metadata": {},
   "source": [
    "The ```csv``` module offers a slightly more convenient way of accessing the data:"
   ]
  },
  {
   "cell_type": "code",
   "execution_count": null,
   "metadata": {},
   "outputs": [],
   "source": [
    "import csv # import the csv module\n",
    "FILE = open(\"marksheet.csv\", \"r\")\n",
    "\n",
    "total = 0.0\n",
    "students = 0\n",
    "marksheet = csv.reader(FILE)\n",
    "marksheet.__next__() # skip first line\n",
    "for line in marksheet: # already split for us\n",
    "    total += float(line[2])\n",
    "    students += 1\n",
    "FILE.close()\n",
    "\n",
    "print(\"Average: \", total/students)"
   ]
  },
  {
   "cell_type": "markdown",
   "metadata": {},
   "source": [
    "For such a simple file it is hardly worth the trouble; however, the ```csv``` module can handle several types of files (essentially different separators) and automatically guess what software might have generated the file. See the [online help](https://docs.python.org/3/library/csv.html) for details.\n",
    "\n",
    "The ```csv``` module also provides a ```writer``` object. However, remember that writing a ```csv``` file is essentially only a matter of placing the commas in the right places."
   ]
  },
  {
   "cell_type": "code",
   "execution_count": null,
   "metadata": {},
   "outputs": [],
   "source": [
    "# run this cell to show a video, use slider to resize it, type Esc-o to hide it\n",
    "from IPython.display import Video, clear_output; from ipywidgets import interactive, IntSlider\n",
    "def _play(resize): display(Video(filename=\"media/ECS780P_Files_WritingToFiles.mp4\",data=\"\",width=resize))\n",
    "interactive(_play, resize=IntSlider(min=150, max=900, step=50, value=600, continuous_update=False, readout=False))"
   ]
  }
 ],
 "metadata": {
  "kernelspec": {
   "display_name": "Python 3",
   "language": "python",
   "name": "python3"
  },
  "language_info": {
   "codemirror_mode": {
    "name": "ipython",
    "version": 3
   },
   "file_extension": ".py",
   "mimetype": "text/x-python",
   "name": "python",
   "nbconvert_exporter": "python",
   "pygments_lexer": "ipython3",
   "version": "3.6.8"
  }
 },
 "nbformat": 4,
 "nbformat_minor": 1
}
