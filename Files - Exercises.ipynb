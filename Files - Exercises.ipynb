{
 "cells": [
  {
   "cell_type": "markdown",
   "metadata": {},
   "source": [
    "## Lab: Files\n"
   ]
  },
  {
   "cell_type": "markdown",
   "metadata": {},
   "source": [
    "**Learning Objectives**\n",
    "* To read from (and write to) a text file to solve problems, as appropriate.\n",
    "* To write Python code that successfully implements the solution to a problem by combining the manipulation of text files with previously covered concepts, e.g. loops, and dictionaries.\n",
    "\n",
    "**General notes about the exercises**\n",
    "* You should attempt the exercises below by using *only* the Python constructs that you learnt up to the end of topic **Files**.\n",
    "* Spend a few minutes before you write code, to think about how to structure your proposed solution.\n",
    "* Add comments to your code.\n",
    "* Make your code neat, by using indentation and parentheses (where appropriate).\n",
    "* Give meaningful names to functions and variables.\n",
    "* You may find it easier to do some of these exercises directly in the notebook. Feel free to insert text with your comments or write your notes as you proceed. The Jupyter Notebook is \"yours for keeps\"."
   ]
  },
  {
   "cell_type": "markdown",
   "metadata": {},
   "source": [
    "### 1 - Simple notepad"
   ]
  },
  {
   "cell_type": "markdown",
   "metadata": {},
   "source": [
    "Write a script called ```takenote.py``` that keeps asking the user for text and writes it to a file called ```notes.txt``` one line at a time, until the user writes the word ```exit``` alone on a line. This word should not be saved.\n",
    "\n",
    "Then  write a script called ```shownotes.py``` that prints the contents of ```notes.txt``` to the screen.\n",
    "\n",
    "Note that each time you run ```takenote.py```  file ```notes.txt``` is cleared. To avoid this, modify ```takenote.py``` so that it opens the file for appending instead than for writing - simply change 'w' into 'a' in the ```open()``` statement."
   ]
  },
  {
   "cell_type": "code",
   "execution_count": null,
   "metadata": {},
   "outputs": [],
   "source": []
  },
  {
   "cell_type": "markdown",
   "metadata": {},
   "source": [
    "### 2 - Net charge of a protein"
   ]
  },
  {
   "cell_type": "markdown",
   "metadata": {},
   "source": [
    "It is possible to approximate the next charge of a protein by the following formula; start from\n",
    "```\n",
    "charge=-0.002\n",
    "```\n",
    "and for each occurrence of the residues in the following dictionary, add the corresponding charge:\n",
    "```\n",
    "AACharge={\"C\":-0.045, \"D\": -0.999, \"E\": -0.998, \"H\": 0.091, \"K\": 1.0, \"R\": 1.0,\"Y\": -0.001}\n",
    "```\n",
    "\n",
    "Write a program that asks the user for the name of a FASTA file, opens it, reads the sequence and outputs the charge of the protein. \n",
    "\n",
    "(from Bassi, Python for Bioinformatics, exercise 4.13 and following and 5.4)"
   ]
  },
  {
   "cell_type": "code",
   "execution_count": null,
   "metadata": {},
   "outputs": [],
   "source": []
  },
  {
   "cell_type": "markdown",
   "metadata": {},
   "source": [
    "### 3 - Small words"
   ]
  },
  {
   "cell_type": "markdown",
   "metadata": {},
   "source": [
    "Write a program that reads in a list of words in a text file called **origWordsList.txt**, and copies all the words that are 5 letters long onto a new file called **shortWordsList.txt**; the program should also display a message if it cannot find any 5-letter words to store. Then improve your program by allowing the user to choose:\n",
    "1. which file to read from (and write to);\n",
    "2. what is the maximum number of characters of the words to store in the new file.\n",
    "\n",
    "**Note**: Try reading a text file (without whitespace at the start and end) by using a *list comprehension*, thus loading the file's lines into a list. For example, if you have a file called *anExample.txt*, you would write\n",
    "```fileLines = [oneLine.strip() for oneLine in open('anExample.txt')]```."
   ]
  },
  {
   "cell_type": "code",
   "execution_count": null,
   "metadata": {},
   "outputs": [],
   "source": []
  },
  {
   "cell_type": "markdown",
   "metadata": {},
   "source": [
    "### 4 - Large country, small country"
   ]
  },
  {
   "cell_type": "markdown",
   "metadata": {},
   "source": [
    "Write a program that extracts the countries whose names start with the letter **P** which have at least 1 million people, from a text file called **visitedCountriesAndPopulation.txt**.\n",
    "\n",
    "**Hint**: Each line should be split around the tab character (*\\t*)."
   ]
  },
  {
   "cell_type": "code",
   "execution_count": null,
   "metadata": {},
   "outputs": [],
   "source": []
  },
  {
   "cell_type": "markdown",
   "metadata": {},
   "source": [
    "### 5 - Counting characters per line "
   ]
  },
  {
   "cell_type": "markdown",
   "metadata": {},
   "source": [
    "Write a program that asks the user for a filename, reads its contents and displays the number of characters (excluding spaces) per line.\n",
    "\n",
    "**Food for thought**: What do you think will happen if the filename typed by the user does not exist?"
   ]
  },
  {
   "cell_type": "code",
   "execution_count": null,
   "metadata": {},
   "outputs": [],
   "source": []
  }
 ],
 "metadata": {
  "kernelspec": {
   "display_name": "Python 3",
   "language": "python",
   "name": "python3"
  },
  "language_info": {
   "codemirror_mode": {
    "name": "ipython",
    "version": 3
   },
   "file_extension": ".py",
   "mimetype": "text/x-python",
   "name": "python",
   "nbconvert_exporter": "python",
   "pygments_lexer": "ipython3",
   "version": "3.6.8"
  }
 },
 "nbformat": 4,
 "nbformat_minor": 1
}
